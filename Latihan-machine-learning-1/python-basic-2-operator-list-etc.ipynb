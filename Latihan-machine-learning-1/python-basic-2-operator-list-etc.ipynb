{
 "cells": [
  {
   "cell_type": "code",
   "execution_count": 1,
   "id": "f94ef9b9",
   "metadata": {},
   "outputs": [],
   "source": [
    "#contoh list\n",
    "list1 = ['Kimia','Biologi',1993,2017]\n",
    "list2 = [1,2,3,4,5]\n",
    "list3 = [\"a\",\"b\",\"c\",\"d\",\"e\"]"
   ]
  },
  {
   "cell_type": "code",
   "execution_count": 2,
   "id": "7a4caef7",
   "metadata": {},
   "outputs": [
    {
     "name": "stdout",
     "output_type": "stream",
     "text": [
      "list1[0] :  Kimia\n",
      "list2[1:5] :  [2, 3, 4, 5]\n"
     ]
    }
   ],
   "source": [
    "#akses list\n",
    "print(\"list1[0] : \", list1[0])\n",
    "print(\"list2[1:5] : \", list2[1:5])"
   ]
  },
  {
   "cell_type": "code",
   "execution_count": 3,
   "id": "7c01437f",
   "metadata": {},
   "outputs": [
    {
     "name": "stdout",
     "output_type": "stream",
     "text": [
      "list1[3] :  2004\n"
     ]
    }
   ],
   "source": [
    "#ubah nilai dalam list\n",
    "list1[3] = 2004\n",
    "print(\"list1[3] : \", list1[3])"
   ]
  },
  {
   "cell_type": "code",
   "execution_count": 4,
   "id": "df16d9b7",
   "metadata": {},
   "outputs": [
    {
     "name": "stdout",
     "output_type": "stream",
     "text": [
      "list1 setelah indeks 2 dihapus :  ['Kimia', 'Biologi', 2004]\n"
     ]
    }
   ],
   "source": [
    "del list1[2]\n",
    "print(\"list1 setelah indeks 2 dihapus : \", list1)"
   ]
  },
  {
   "cell_type": "code",
   "execution_count": 5,
   "id": "62ac46f3",
   "metadata": {},
   "outputs": [
    {
     "data": {
      "text/plain": [
       "5"
      ]
     },
     "execution_count": 5,
     "metadata": {},
     "output_type": "execute_result"
    }
   ],
   "source": [
    "len(list3)"
   ]
  },
  {
   "cell_type": "code",
   "execution_count": 19,
   "id": "e4db6e1e",
   "metadata": {},
   "outputs": [
    {
     "data": {
      "text/plain": [
       "[1, 2, 3, 4, 5, 'a', 'b', 'c', 'd', 'e']"
      ]
     },
     "execution_count": 19,
     "metadata": {},
     "output_type": "execute_result"
    }
   ],
   "source": [
    "list2 + list3"
   ]
  },
  {
   "cell_type": "code",
   "execution_count": 20,
   "id": "8877a926",
   "metadata": {},
   "outputs": [
    {
     "name": "stdout",
     "output_type": "stream",
     "text": [
      "True\n"
     ]
    }
   ],
   "source": [
    "x = 2 in list2\n",
    "print(x)"
   ]
  },
  {
   "cell_type": "code",
   "execution_count": 25,
   "id": "57350c40",
   "metadata": {},
   "outputs": [
    {
     "name": "stdout",
     "output_type": "stream",
     "text": [
      "12345abcde"
     ]
    }
   ],
   "source": [
    "for x in (list2 + list3) :\n",
    "    print (x, end = '')"
   ]
  },
  {
   "cell_type": "code",
   "execution_count": 37,
   "id": "98c65797",
   "metadata": {},
   "outputs": [
    {
     "data": {
      "text/plain": [
       "['Java', 'Python']"
      ]
     },
     "execution_count": 37,
     "metadata": {},
     "output_type": "execute_result"
    }
   ],
   "source": [
    "list4 = ['C++', 'Java','Python']\n",
    "list4[1:]\n",
    "#list4[-2:]"
   ]
  },
  {
   "cell_type": "code",
   "execution_count": 42,
   "id": "efd2c342",
   "metadata": {},
   "outputs": [],
   "source": [
    "list4.append(\"SQL\")\n",
    "list4.append(\"VB .NET\")"
   ]
  },
  {
   "cell_type": "code",
   "execution_count": 53,
   "id": "4906e938",
   "metadata": {},
   "outputs": [
    {
     "data": {
      "text/plain": [
       "'R'"
      ]
     },
     "execution_count": 53,
     "metadata": {},
     "output_type": "execute_result"
    }
   ],
   "source": [
    "list4.pop(5)"
   ]
  },
  {
   "cell_type": "code",
   "execution_count": 55,
   "id": "32a5fa7c",
   "metadata": {},
   "outputs": [],
   "source": [
    "list4.append(\"PHP\")"
   ]
  },
  {
   "cell_type": "code",
   "execution_count": null,
   "id": "e4af9bd5",
   "metadata": {},
   "outputs": [],
   "source": []
  }
 ],
 "metadata": {
  "kernelspec": {
   "display_name": "Python 3",
   "language": "python",
   "name": "python3"
  },
  "language_info": {
   "codemirror_mode": {
    "name": "ipython",
    "version": 3
   },
   "file_extension": ".py",
   "mimetype": "text/x-python",
   "name": "python",
   "nbconvert_exporter": "python",
   "pygments_lexer": "ipython3",
   "version": "3.8.8"
  }
 },
 "nbformat": 4,
 "nbformat_minor": 5
}
