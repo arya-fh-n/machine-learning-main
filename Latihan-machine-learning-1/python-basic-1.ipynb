{
 "cells": [
  {
   "cell_type": "code",
   "execution_count": 17,
   "id": "583248d9",
   "metadata": {},
   "outputs": [
    {
     "name": "stdout",
     "output_type": "stream",
     "text": [
      "Masukkan IPK = C\n"
     ]
    }
   ],
   "source": [
    "ipk = input(\"Masukkan IPK = \")"
   ]
  },
  {
   "cell_type": "code",
   "execution_count": 18,
   "id": "f289ff82",
   "metadata": {},
   "outputs": [
    {
     "name": "stdout",
     "output_type": "stream",
     "text": [
      "Anda lulus dengan IPK C\n"
     ]
    }
   ],
   "source": [
    "if ipk == 'A':\n",
    "    print(\"Anda lulus dengan nilai sempurna.\")\n",
    "elif ipk == 'B':\n",
    "    print(\"Anda lulus dengan IPK \" + ipk)\n",
    "elif ipk == 'C':\n",
    "    print(\"Anda lulus dengan IPK \" + ipk)\n",
    "elif ipk == 'D':\n",
    "    print(\"Anda tidak lulus dengan IPK \" + ipk)\n",
    "elif ipk == 'E':\n",
    "    print(\"Anda DO.\")\n",
    "else:\n",
    "    print(\"Pilihan input : A/B/C/D/E\")"
   ]
  },
  {
   "cell_type": "code",
   "execution_count": 19,
   "id": "115a7e7c",
   "metadata": {},
   "outputs": [],
   "source": [
    "student = {\n",
    "    \"nama\" : \"Arya\",\n",
    "    \"umur\" : 20,\n",
    "    \"tinggi\" : 183.6,\n",
    "    \"hobi\" : [\"Main videogame, tidur\"],\n",
    "    \"kontak\" : {\n",
    "        \"Whatsapp\" : \"0818-0605-7343\",\n",
    "        \"Email\" : \"arya.fikryhudanurpatria.tik19@mhsw.pnj.ac.id\"\n",
    "    }\n",
    "}"
   ]
  },
  {
   "cell_type": "code",
   "execution_count": 20,
   "id": "b3767955",
   "metadata": {},
   "outputs": [
    {
     "name": "stdout",
     "output_type": "stream",
     "text": [
      "{'nama': 'Arya', 'umur': 20, 'tinggi': 183.6, 'hobi': ['Main videogame, tidur'], 'kontak': {'Whatsapp': '0818-0605-7343', 'Email': 'arya.fikryhudanurpatria.tik19@mhsw.pnj.ac.id'}}\n"
     ]
    }
   ],
   "source": [
    "print(student)"
   ]
  }
 ],
 "metadata": {
  "kernelspec": {
   "display_name": "Python 3",
   "language": "python",
   "name": "python3"
  },
  "language_info": {
   "codemirror_mode": {
    "name": "ipython",
    "version": 3
   },
   "file_extension": ".py",
   "mimetype": "text/x-python",
   "name": "python",
   "nbconvert_exporter": "python",
   "pygments_lexer": "ipython3",
   "version": "3.8.8"
  }
 },
 "nbformat": 4,
 "nbformat_minor": 5
}
