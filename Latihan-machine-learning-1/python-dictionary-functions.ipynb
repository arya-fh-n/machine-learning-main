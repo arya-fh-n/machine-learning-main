{
 "cells": [
  {
   "cell_type": "code",
   "execution_count": 1,
   "id": "8a0d51e5",
   "metadata": {},
   "outputs": [],
   "source": [
    "#dictionary\n",
    "bulan = {\n",
    "    1 : \"Januari\",\n",
    "    2 : \"Februari\",\n",
    "    3 : \"Maret\",\n",
    "    4 : \"April\",\n",
    "    5 : \"Mei\",\n",
    "    6 : \"Juni\",\n",
    "    7 : \"Juli\",\n",
    "    8 : \"Agustus\",\n",
    "    9 : \"September\",\n",
    "    10 : \"Oktober\",\n",
    "    11 : \"November\",\n",
    "    12 : \"Desember\",\n",
    "}"
   ]
  },
  {
   "cell_type": "code",
   "execution_count": 2,
   "id": "65edef57",
   "metadata": {},
   "outputs": [
    {
     "name": "stdout",
     "output_type": "stream",
     "text": [
      "Key pada dict bulan :  dict_keys([1, 2, 3, 4, 5, 6, 7, 8, 9, 10, 11, 12])\n"
     ]
    }
   ],
   "source": [
    "print(\"Key pada dict bulan : \", bulan.keys())"
   ]
  },
  {
   "cell_type": "code",
   "execution_count": 5,
   "id": "1000f04d",
   "metadata": {},
   "outputs": [
    {
     "name": "stdout",
     "output_type": "stream",
     "text": [
      "Januari\n"
     ]
    }
   ],
   "source": [
    "nama_bulan = bulan[1]\n",
    "print(nama_bulan)"
   ]
  },
  {
   "cell_type": "code",
   "execution_count": 14,
   "id": "ec9ef5a5",
   "metadata": {},
   "outputs": [
    {
     "name": "stdout",
     "output_type": "stream",
     "text": [
      "1 John\n",
      "2 Jane\n",
      "3 Steve\n"
     ]
    }
   ],
   "source": [
    "#dictionary di dalam list\n",
    "customers = [\n",
    "    {\"id\" : 1, \"name\" : \"John\"},\n",
    "    {\"id\" : 2, \"name\" : \"Jane\"},\n",
    "    {\"id\" : 3, \"name\" : \"Steve\"},\n",
    "]\n",
    "\n",
    "for x in customers :\n",
    "    print(x[\"id\"], x[\"name\"])"
   ]
  },
  {
   "cell_type": "code",
   "execution_count": 21,
   "id": "5a1bd35e",
   "metadata": {},
   "outputs": [],
   "source": [
    "#function filter untuk list\n",
    "numbers = [1,2,4,5,7,8,10,11]\n",
    "\n",
    "def filterEven(in_num) :\n",
    "    if (in_num%2) == 0 :\n",
    "        return True\n",
    "    else :\n",
    "        return False"
   ]
  },
  {
   "cell_type": "code",
   "execution_count": 22,
   "id": "28044033",
   "metadata": {},
   "outputs": [
    {
     "name": "stdout",
     "output_type": "stream",
     "text": [
      "Tipe data objek : <class 'filter'>\n",
      "Filtered sequence : [2, 4, 8, 10]\n"
     ]
    }
   ],
   "source": [
    "out_filter = filter(filterEven,numbers)\n",
    "\n",
    "print(\"Tipe data objek :\", type(out_filter))\n",
    "print(\"Filtered sequence :\", list(out_filter))"
   ]
  },
  {
   "cell_type": "code",
   "execution_count": 32,
   "id": "37ef06f1",
   "metadata": {},
   "outputs": [],
   "source": [
    "array1 = ['p','y','t','h','o','n',' ','3','.','0']\n",
    "array2 = ['p','y','d','e','v',' ','2','.','0']"
   ]
  },
  {
   "cell_type": "code",
   "execution_count": 36,
   "id": "a3014f67",
   "metadata": {},
   "outputs": [],
   "source": [
    "out_filter = filter(lambda it: it in array1, array2)\n",
    "\n",
    "def interSect(array1, array2) :\n",
    "    #lambda\n",
    "    out = list(out_filter)\n",
    "    print(type(out))\n",
    "    print(type(out_filter))\n",
    "    return out"
   ]
  },
  {
   "cell_type": "code",
   "execution_count": 37,
   "id": "c3f5b3cb",
   "metadata": {},
   "outputs": [
    {
     "name": "stdout",
     "output_type": "stream",
     "text": [
      "<class 'list'>\n",
      "<class 'filter'>\n",
      "Filtered sequence :  ['p', 'y', ' ', '.', '0']\n"
     ]
    }
   ],
   "source": [
    "if __name__ == \"__main__\" :\n",
    "    out = interSect(array1, array2)\n",
    "    print(\"Filtered sequence : \", out)"
   ]
  },
  {
   "cell_type": "code",
   "execution_count": 38,
   "id": "d426d1b2",
   "metadata": {},
   "outputs": [
    {
     "name": "stdout",
     "output_type": "stream",
     "text": [
      "bool\n",
      "True\n",
      "1\n"
     ]
    }
   ],
   "source": [
    "#function filter tanpa function\n",
    "bools = ['bool', 0, None, True, False, 1, 1-1, 2%2]\n",
    "\n",
    "#pass none\n",
    "out = filter(None, bools)\n",
    "\n",
    "for iter in out :\n",
    "    print(iter)"
   ]
  }
 ],
 "metadata": {
  "kernelspec": {
   "display_name": "Python 3",
   "language": "python",
   "name": "python3"
  },
  "language_info": {
   "codemirror_mode": {
    "name": "ipython",
    "version": 3
   },
   "file_extension": ".py",
   "mimetype": "text/x-python",
   "name": "python",
   "nbconvert_exporter": "python",
   "pygments_lexer": "ipython3",
   "version": "3.8.8"
  }
 },
 "nbformat": 4,
 "nbformat_minor": 5
}
