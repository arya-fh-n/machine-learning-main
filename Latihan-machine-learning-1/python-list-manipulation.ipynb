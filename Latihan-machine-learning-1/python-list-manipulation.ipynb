{
 "cells": [
  {
   "cell_type": "code",
   "execution_count": 2,
   "id": "0f26c5e8",
   "metadata": {},
   "outputs": [],
   "source": [
    "x = [1,3,5,2,6,4,9,8,7]\n",
    "y = [\"John\", \"Jane\", \"Bob\", \"Mary\", \"Andy\", \"Steve\"]"
   ]
  },
  {
   "cell_type": "code",
   "execution_count": 3,
   "id": "91c11d3e",
   "metadata": {},
   "outputs": [
    {
     "name": "stdout",
     "output_type": "stream",
     "text": [
      "[1, 3, 5, 2, 6, 4, 9, 8, 7]\n",
      "['John', 'Jane', 'Bob', 'Mary', 'Andy', 'Steve']\n"
     ]
    }
   ],
   "source": [
    "print(x)\n",
    "print(y)"
   ]
  },
  {
   "cell_type": "code",
   "execution_count": 25,
   "id": "ae38eec7",
   "metadata": {},
   "outputs": [
    {
     "name": "stdout",
     "output_type": "stream",
     "text": [
      "[1, 2, 3, 4, 5, 6, 7, 8, 9, 10, 11, 12]\n"
     ]
    }
   ],
   "source": [
    "x.insert(10,11)\n",
    "x.append(12)\n",
    "print(x)"
   ]
  },
  {
   "cell_type": "code",
   "execution_count": 26,
   "id": "4b31ddf4",
   "metadata": {},
   "outputs": [
    {
     "name": "stdout",
     "output_type": "stream",
     "text": [
      "[1, 2, 3, 4, 5, 6, 7, 8, 9, 10, 11, 12]\n",
      "['Steve', 'Mary', 'John', 'Jane', 'Bob', 'Andy']\n"
     ]
    }
   ],
   "source": [
    "x.sort()\n",
    "y.sort()\n",
    "y.reverse()\n",
    "print(x)\n",
    "print(y)"
   ]
  }
 ],
 "metadata": {
  "kernelspec": {
   "display_name": "Python 3",
   "language": "python",
   "name": "python3"
  },
  "language_info": {
   "codemirror_mode": {
    "name": "ipython",
    "version": 3
   },
   "file_extension": ".py",
   "mimetype": "text/x-python",
   "name": "python",
   "nbconvert_exporter": "python",
   "pygments_lexer": "ipython3",
   "version": "3.8.8"
  }
 },
 "nbformat": 4,
 "nbformat_minor": 5
}
