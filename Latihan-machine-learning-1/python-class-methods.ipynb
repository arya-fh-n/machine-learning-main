{
 "cells": [
  {
   "cell_type": "code",
   "execution_count": 2,
   "id": "a47f54d4",
   "metadata": {},
   "outputs": [
    {
     "name": "stdout",
     "output_type": "stream",
     "text": [
      "9\n",
      "10\n"
     ]
    }
   ],
   "source": [
    "class MyClass(object) :\n",
    "    var = 9\n",
    "\n",
    "#1st instance\n",
    "this_object = MyClass()\n",
    "print(this_object.var)\n",
    "\n",
    "#2nd instance\n",
    "that_object = MyClass()\n",
    "that_object.var = 10\n",
    "print(that_object.var)"
   ]
  },
  {
   "cell_type": "code",
   "execution_count": 6,
   "id": "f3a9e671",
   "metadata": {},
   "outputs": [
    {
     "name": "stdout",
     "output_type": "stream",
     "text": [
      "9\n",
      "Hello\n"
     ]
    }
   ],
   "source": [
    "class MyClass2(object) :\n",
    "    var2 = 9\n",
    "    def firstM(self) :\n",
    "        print(\"Hello\")\n",
    "\n",
    "ob = MyClass2()\n",
    "print(ob.var2)\n",
    "ob.firstM()"
   ]
  },
  {
   "cell_type": "code",
   "execution_count": 24,
   "id": "c976592e",
   "metadata": {},
   "outputs": [
    {
     "name": "stdout",
     "output_type": "stream",
     "text": [
      "Warna : Kuning ; Nama kendaraan : Bis Kuning UI ; Kecepatan : 180 ; Mileage : 13 <class '__main__.bis'>\n",
      "Warna : Putih ; Nama kendaraan : Toyota Avanza ; Kecepatan : 250 ; Mileage : 19 <class '__main__.mobil'>\n"
     ]
    }
   ],
   "source": [
    "class kendaraan :\n",
    "    color = \"Putih\"\n",
    "    \n",
    "    def __init__(self, name, max_speed, mileage) :\n",
    "        self.name = name\n",
    "        self.max_speed = max_speed\n",
    "        self.mileage = mileage\n",
    "    \n",
    "    def kapasitas_penumpang(self, kap) :\n",
    "        return f\"Batas penumpang {self.name} adalah {kap} penumpang.\"\n",
    "\n",
    "class bis(kendaraan) :\n",
    "#    def kapasitas_penumpang(self, kap) :\n",
    "#        return super().kapasitas_penumpang(kap)\n",
    "    pass\n",
    "\n",
    "class mobil(kendaraan) :\n",
    "    pass\n",
    "        \n",
    "bis_kuning = bis(\"Bis Kuning UI\", 180, 13)\n",
    "bis_kuning.color = \"Kuning\"\n",
    "avanza = mobil(\"Toyota Avanza\", 250, 19)\n",
    "\n",
    "print(\"Warna :\", bis_kuning.color, \n",
    "      \"; Nama kendaraan : \" + bis_kuning.name, \n",
    "      \"; Kecepatan :\" , bis_kuning.max_speed, \n",
    "      \"; Mileage :\" , bis_kuning.mileage, type(bis_kuning))\n",
    "#print(bis_kuning.kapasitas_penumpang(75))\n",
    "\n",
    "print(\"Warna :\", avanza.color, \n",
    "      \"; Nama kendaraan : \" + avanza.name, \n",
    "      \"; Kecepatan :\" , avanza.max_speed, \n",
    "      \"; Mileage :\" , avanza.mileage, type(avanza))"
   ]
  },
  {
   "cell_type": "code",
   "execution_count": null,
   "id": "4cf48f90",
   "metadata": {},
   "outputs": [],
   "source": []
  }
 ],
 "metadata": {
  "kernelspec": {
   "display_name": "Python 3",
   "language": "python",
   "name": "python3"
  },
  "language_info": {
   "codemirror_mode": {
    "name": "ipython",
    "version": 3
   },
   "file_extension": ".py",
   "mimetype": "text/x-python",
   "name": "python",
   "nbconvert_exporter": "python",
   "pygments_lexer": "ipython3",
   "version": "3.8.8"
  }
 },
 "nbformat": 4,
 "nbformat_minor": 5
}
