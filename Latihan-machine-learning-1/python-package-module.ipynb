{
 "cells": [
  {
   "cell_type": "code",
   "execution_count": 9,
   "id": "8cc9109c",
   "metadata": {
    "scrolled": true
   },
   "outputs": [],
   "source": [
    "def greeting(name) :\n",
    "    print(\"Hello, \" + name)\n",
    "\n",
    "person1 = {\n",
    "    \"name\" : \"John\",\n",
    "    \"age\" : 36,\n",
    "    \"country\" : \"Norway\"\n",
    "}"
   ]
  }
 ],
 "metadata": {
  "kernelspec": {
   "display_name": "Python 3",
   "language": "python",
   "name": "python3"
  },
  "language_info": {
   "codemirror_mode": {
    "name": "ipython",
    "version": 3
   },
   "file_extension": ".py",
   "mimetype": "text/x-python",
   "name": "python",
   "nbconvert_exporter": "python",
   "pygments_lexer": "ipython3",
   "version": "3.8.8"
  }
 },
 "nbformat": 4,
 "nbformat_minor": 5
}
