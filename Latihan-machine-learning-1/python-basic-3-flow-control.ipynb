{
 "cells": [
  {
   "cell_type": "code",
   "execution_count": 41,
   "id": "fd167cc6",
   "metadata": {},
   "outputs": [
    {
     "name": "stdout",
     "output_type": "stream",
     "text": [
      "Variable   Type    Data/Info\n",
      "----------------------------\n",
      "color      dict    n=3\n",
      "datalist   list    n=8\n",
      "i          int     10\n",
      "item       dict    n=2\n",
      "key        str     c3\n",
      "nilai      int     6\n",
      "number     int     5\n"
     ]
    }
   ],
   "source": [
    "%whos"
   ]
  },
  {
   "cell_type": "code",
   "execution_count": 10,
   "id": "a4f70122",
   "metadata": {},
   "outputs": [
    {
     "name": "stdout",
     "output_type": "stream",
     "text": [
      "Anda tidak lulus ujian.\n"
     ]
    }
   ],
   "source": [
    "#flow control\n",
    "##conditional if\n",
    "nilai = 6\n",
    "\n",
    "if (nilai > 10):\n",
    "    print(\"Anda lulus ujian 1\")\n",
    "elif (nilai < 10 and nilai > 6) :\n",
    "    print(\"Anda lulus ujian 2\")\n",
    "else :\n",
    "    print(\"Anda tidak lulus ujian.\")"
   ]
  },
  {
   "cell_type": "code",
   "execution_count": 26,
   "id": "61032fd9",
   "metadata": {},
   "outputs": [
    {
     "name": "stdout",
     "output_type": "stream",
     "text": [
      "Type of  1452  is  <class 'int'>\n",
      "Type of  11.23  is  <class 'float'>\n",
      "Type of  (1+2j)  is  <class 'complex'>\n",
      "Type of  True  is  <class 'bool'>\n",
      "Type of  data  is  <class 'str'>\n",
      "Type of  (0, -1)  is  <class 'tuple'>\n",
      "Type of  [5, 12]  is  <class 'list'>\n",
      "Type of  {'class': 'V', 'section': 'A'}  is  <class 'dict'>\n"
     ]
    }
   ],
   "source": [
    "##for loop\n",
    "datalist = [1452,11.23,1+2j, True, 'data', (0, -1), [5,12], {\"class\" : 'V',\"section\" : 'A'}]\n",
    "for item in datalist :\n",
    "    print (\"Type of \", item, \" is \", type(item))"
   ]
  },
  {
   "cell_type": "code",
   "execution_count": 24,
   "id": "66d2dc4f",
   "metadata": {},
   "outputs": [
    {
     "name": "stdout",
     "output_type": "stream",
     "text": [
      "c1\n",
      "c2\n",
      "c3\n"
     ]
    }
   ],
   "source": [
    "color = {\"c1\" : \"Blood Red\", \"c2\" : \"Leaf Green\", \"c3\" : \"Lime Orange\"}\n",
    "for key in color :\n",
    "    print(key)"
   ]
  },
  {
   "cell_type": "code",
   "execution_count": 39,
   "id": "fdff0872",
   "metadata": {},
   "outputs": [
    {
     "name": "stdout",
     "output_type": "stream",
     "text": [
      "Nilai i pada loop ini :  0\n",
      "Nilai i pada loop ini :  1\n",
      "Nilai i pada loop ini :  2\n",
      "Nilai i pada loop ini :  3\n",
      "Nilai i pada loop ini :  4\n",
      "Nilai i pada loop ini :  5\n",
      "Nilai i pada loop ini :  6\n",
      "Nilai i pada loop ini :  7\n",
      "Nilai i pada loop ini :  8\n",
      "Nilai i pada loop ini :  9\n",
      "Nilai i pada loop ini :  10 , dan akan berhenti di loop ini.\n"
     ]
    }
   ],
   "source": [
    "##while loop\n",
    "i = 0\n",
    "while True :\n",
    "    if i < 10 :\n",
    "        print(\"Nilai i pada loop ini : \", i)\n",
    "        i += 1\n",
    "    elif i >= 10 :\n",
    "        print(\"Nilai i pada loop ini : \", i, \", dan akan berhenti di loop ini.\")\n",
    "        break"
   ]
  },
  {
   "cell_type": "code",
   "execution_count": 34,
   "id": "5505e8f4",
   "metadata": {},
   "outputs": [
    {
     "name": "stdout",
     "output_type": "stream",
     "text": [
      "Number : 0\n",
      "Number : 1\n",
      "Number : 2\n",
      "Number : 3\n",
      "Number : 4\n",
      "Out of loop.\n"
     ]
    }
   ],
   "source": [
    "number = 0\n",
    "for number in range(10) :\n",
    "    if number == 5 :\n",
    "        #pass\n",
    "        #print(\"NUMBER : \" + str(number))\n",
    "        #continue\n",
    "        break\n",
    "    print('Number : ' + str(number))\n",
    "    \n",
    "print(\"Out of loop.\")"
   ]
  },
  {
   "cell_type": "code",
   "execution_count": 42,
   "id": "dbf53ac0",
   "metadata": {},
   "outputs": [
    {
     "name": "stdout",
     "output_type": "stream",
     "text": [
      "8\n",
      "7\n",
      "6\n",
      "4\n",
      "3\n",
      "2\n",
      "1\n",
      "End of loop.\n"
     ]
    }
   ],
   "source": [
    "num = (1, 2, 3, 4, 5, 6, 7, 8)\n",
    "count = 8\n",
    "while (count > 0) :\n",
    "    count -= 1\n",
    "    if count == 4 :\n",
    "        continue\n",
    "    print(num[count])\n",
    "print('End of loop.')"
   ]
  },
  {
   "cell_type": "code",
   "execution_count": 51,
   "id": "85bbea50",
   "metadata": {},
   "outputs": [
    {
     "name": "stdout",
     "output_type": "stream",
     "text": [
      "g\n",
      "A\n",
      "n\n",
      "E\n",
      "n\n",
      "G\n"
     ]
    }
   ],
   "source": [
    "for huruf in 'gAnTEnG' :\n",
    "    if huruf == 'T' :\n",
    "        continue\n",
    "    print(huruf)"
   ]
  }
 ],
 "metadata": {
  "kernelspec": {
   "display_name": "Python 3",
   "language": "python",
   "name": "python3"
  },
  "language_info": {
   "codemirror_mode": {
    "name": "ipython",
    "version": 3
   },
   "file_extension": ".py",
   "mimetype": "text/x-python",
   "name": "python",
   "nbconvert_exporter": "python",
   "pygments_lexer": "ipython3",
   "version": "3.8.8"
  }
 },
 "nbformat": 4,
 "nbformat_minor": 5
}
