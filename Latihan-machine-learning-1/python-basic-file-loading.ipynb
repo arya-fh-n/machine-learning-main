{
 "cells": [
  {
   "cell_type": "code",
   "execution_count": 2,
   "id": "3ff7f2a6",
   "metadata": {},
   "outputs": [],
   "source": [
    "import csv\n",
    "import numpy as np"
   ]
  },
  {
   "cell_type": "code",
   "execution_count": 3,
   "id": "4dafde48",
   "metadata": {},
   "outputs": [],
   "source": [
    "path = r\"E:\\Dokumen\\Informatics\\R\\DataSet Extracted\\iris.csv\""
   ]
  },
  {
   "cell_type": "code",
   "execution_count": 4,
   "id": "15a7d5e1",
   "metadata": {},
   "outputs": [],
   "source": [
    "with open(path, 'r') as f:\n",
    "    reader = csv.reader(f, delimiter = ',')\n",
    "    headers = next(reader)\n",
    "    data = list(reader)"
   ]
  },
  {
   "cell_type": "code",
   "execution_count": 5,
   "id": "97bd2fbe",
   "metadata": {},
   "outputs": [
    {
     "name": "stdout",
     "output_type": "stream",
     "text": [
      "['', 'Sepal.Length', 'Sepal.Width', 'Petal.Length', 'Petal.Width', 'Species']\n"
     ]
    }
   ],
   "source": [
    "print(headers)"
   ]
  },
  {
   "cell_type": "code",
   "execution_count": 7,
   "id": "c37af4c1",
   "metadata": {},
   "outputs": [
    {
     "name": "stdout",
     "output_type": "stream",
     "text": [
      "[['1', '5.1', '3.5', '1.4', '0.2', 'setosa'], ['2', '4.9', '3', '1.4', '0.2', 'setosa'], ['3', '4.7', '3.2', '1.3', '0.2', 'setosa']]\n"
     ]
    }
   ],
   "source": [
    "print(data[:3])"
   ]
  }
 ],
 "metadata": {
  "kernelspec": {
   "display_name": "Python 3",
   "language": "python",
   "name": "python3"
  },
  "language_info": {
   "codemirror_mode": {
    "name": "ipython",
    "version": 3
   },
   "file_extension": ".py",
   "mimetype": "text/x-python",
   "name": "python",
   "nbconvert_exporter": "python",
   "pygments_lexer": "ipython3",
   "version": "3.8.8"
  }
 },
 "nbformat": 4,
 "nbformat_minor": 5
}
