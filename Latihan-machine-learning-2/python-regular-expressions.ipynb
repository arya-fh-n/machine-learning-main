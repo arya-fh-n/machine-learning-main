{
 "cells": [
  {
   "cell_type": "code",
   "execution_count": 66,
   "id": "c8c55582",
   "metadata": {},
   "outputs": [],
   "source": [
    "import re"
   ]
  },
  {
   "cell_type": "code",
   "execution_count": 67,
   "id": "f2f1160c",
   "metadata": {},
   "outputs": [
    {
     "name": "stdout",
     "output_type": "stream",
     "text": [
      "Nomor telepon ditemukan : 0818-0605-7343\n"
     ]
    }
   ],
   "source": [
    "#match and search dengan regex\n",
    "phoneNumRegex = re.compile(r'\\d\\d\\d\\d-\\d\\d\\d\\d-\\d\\d\\d\\d')\n",
    "mo = phoneNumRegex.search('No. telp : 0818-0605-7343.') # mo = match object\n",
    "print('Nomor telepon ditemukan : ' + mo.group())"
   ]
  },
  {
   "cell_type": "code",
   "execution_count": 68,
   "id": "12e2c3e1",
   "metadata": {},
   "outputs": [],
   "source": [
    "#fungsi search\n",
    "def is_phone_number(text) :\n",
    "    if len(text) != 11 :\n",
    "        return False\n",
    "    for i in range(0,3) :\n",
    "        if not text[i].isdecimal() :\n",
    "            return False\n",
    "        if text[3] != '-' :\n",
    "            return False\n",
    "    for i in range(4,11) :\n",
    "        if not text[i].isdecimal() :\n",
    "            return False\n",
    "    return True"
   ]
  },
  {
   "cell_type": "code",
   "execution_count": 69,
   "id": "b84953aa",
   "metadata": {},
   "outputs": [
    {
     "name": "stdout",
     "output_type": "stream",
     "text": [
      "021-8229311 adalah nomor telepon :  True\n",
      "Hello World adalah nomor telepon :  False\n"
     ]
    }
   ],
   "source": [
    "print('021-8229311 adalah nomor telepon : ', is_phone_number('021-8229311'))\n",
    "print('Hello World adalah nomor telepon : ', is_phone_number('Hello World'))"
   ]
  },
  {
   "cell_type": "code",
   "execution_count": 70,
   "id": "97e60a1c",
   "metadata": {},
   "outputs": [
    {
     "name": "stdout",
     "output_type": "stream",
     "text": [
      "Nomor telepon ditemukan : 021-8234455\n",
      "Nomor telepon ditemukan : 021-8253454\n",
      "Selesai.\n"
     ]
    }
   ],
   "source": [
    "msg = 'Nanti bisa hubungi saya di nomor saya yang biasa, 021-8234455. Bisa juga hubungi 021-8253454.'\n",
    "for i in range(len(msg)) :\n",
    "    teks = msg[i : i + 11]\n",
    "    if is_phone_number(teks) :\n",
    "        print(\"Nomor telepon ditemukan :\", teks)\n",
    "    \n",
    "print(\"Selesai.\")"
   ]
  },
  {
   "cell_type": "code",
   "execution_count": 71,
   "id": "469e3224",
   "metadata": {},
   "outputs": [
    {
     "name": "stdout",
     "output_type": "stream",
     "text": [
      "Nomor telepon ditemukan : 021-8234455\n",
      "Nomor telepon ditemukan : 021-8253454\n",
      "Selesai.\n"
     ]
    }
   ],
   "source": [
    "regexNotelp = re.compile(r'\\d\\d\\d-\\d\\d\\d\\d\\d\\d\\d')\n",
    "match = re.finditer(regexNotelp,msg)\n",
    "for i in match :\n",
    "        print(\"Nomor telepon ditemukan :\", i.group())\n",
    "        \n",
    "print(\"Selesai.\")"
   ]
  },
  {
   "cell_type": "code",
   "execution_count": 72,
   "id": "cf2ff4a6",
   "metadata": {},
   "outputs": [
    {
     "name": "stdout",
     "output_type": "stream",
     "text": [
      "['Ethernet0/23', 'Ethernet0/25']\n"
     ]
    }
   ],
   "source": [
    "# Real time parsing of networking or system data using regex\n",
    "txt = '''#\n",
    "interface Ethernet0/22\n",
    " stp disable\n",
    " broadcast-suppression 5\n",
    " mac-address max-mac-count 1\n",
    " port access vlan 452\n",
    "#\n",
    "interface Ethernet0/23\n",
    " stp disable\n",
    " description BTO\n",
    " broadcast-suppression 5\n",
    " port access vlan 2421\n",
    "#\n",
    "interface Ethernet0/24\n",
    " stp disable\n",
    " description Avaya G700\n",
    " broadcast-suppression 5\n",
    " port access vlan 452\n",
    "#\n",
    "interface Ethernet0/25\n",
    " stp disable\n",
    " description BTO\n",
    " broadcast-suppression 5\n",
    " port access vlan 2421\n",
    "#\n",
    "'''\n",
    "\n",
    "re1 = \"^interface ([^#]*?$)[^#]*?BTO.*?^#$\"\n",
    "\n",
    "rg = re.compile(re1, re.IGNORECASE | re.DOTALL | re.MULTILINE)\n",
    "m = rg.findall(txt)\n",
    "if m :\n",
    "    print(m)"
   ]
  },
  {
   "cell_type": "code",
   "execution_count": 75,
   "id": "942dc050",
   "metadata": {},
   "outputs": [
    {
     "name": "stdout",
     "output_type": "stream",
     "text": [
      "Password :  @Ry@_f1k2y$ \n",
      "\n",
      "Apakah password valid? : \n",
      "Password valid.\n"
     ]
    }
   ],
   "source": [
    "# validasi password/email/url dengan regex\n",
    "password = \"@Ry@_f1k2y$\"\n",
    "param = 0\n",
    "\n",
    "print(\"Password : \", password, \"\\n\")\n",
    "print(\"Apakah password valid? : \")\n",
    "while True :\n",
    "    if (len(password) < 8) :\n",
    "        param = -1\n",
    "        break\n",
    "    elif not re.search(\"[a-z]\", password) :\n",
    "        param = -1\n",
    "        break\n",
    "    elif not re.search(\"[A-Z]\", password) :\n",
    "        param = -1\n",
    "        break\n",
    "    elif not re.search(\"[0-9]\", password) :\n",
    "        param = -1\n",
    "        break\n",
    "    elif not re.search(\"[_@$]\", password) :\n",
    "        param = -1\n",
    "        break\n",
    "    elif re.search(\"\\s\", password) :\n",
    "        param = -1\n",
    "        break\n",
    "    else :\n",
    "        param = 0\n",
    "        print(\"Password valid.\")\n",
    "        break\n",
    "\n",
    "if param == -1 :\n",
    "    print(\"Password tidak valid.\")"
   ]
  }
 ],
 "metadata": {
  "kernelspec": {
   "display_name": "Python 3",
   "language": "python",
   "name": "python3"
  },
  "language_info": {
   "codemirror_mode": {
    "name": "ipython",
    "version": 3
   },
   "file_extension": ".py",
   "mimetype": "text/x-python",
   "name": "python",
   "nbconvert_exporter": "python",
   "pygments_lexer": "ipython3",
   "version": "3.8.8"
  }
 },
 "nbformat": 4,
 "nbformat_minor": 5
}
