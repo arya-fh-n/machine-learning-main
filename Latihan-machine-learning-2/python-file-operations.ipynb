{
 "cells": [
  {
   "cell_type": "code",
   "execution_count": 2,
   "id": "db588e9f",
   "metadata": {},
   "outputs": [],
   "source": [
    "import logging"
   ]
  },
  {
   "cell_type": "code",
   "execution_count": 3,
   "id": "99411586",
   "metadata": {},
   "outputs": [
    {
     "name": "stderr",
     "output_type": "stream",
     "text": [
      "WARNING:root:Warning message\n",
      "ERROR:root:Error message\n",
      "CRITICAL:root:Critical message\n"
     ]
    }
   ],
   "source": [
    "logging.debug('Debug message')\n",
    "logging.info('Info message')\n",
    "logging.warning('Warning message')\n",
    "logging.error('Error message')\n",
    "logging.critical('Critical message')"
   ]
  },
  {
   "cell_type": "code",
   "execution_count": 23,
   "id": "79bd173d",
   "metadata": {},
   "outputs": [
    {
     "name": "stdout",
     "output_type": "stream",
     "text": [
      "Dengan metode readlines() :  ['Engkau bahkan bukan lagi variabel bagiku.\\n', '\\n', 'Engkau hanyalah sebuah konstanta yang tergantikan...\\n', '\\n', 'Yang berenang di lautan memori,\\n', '\\n', 'Tak kian menepi, dan terlupakan.'] \n",
      "\n",
      "\n",
      "Dengan metode read() :  Engkau bahkan bukan lagi variabel bagiku.\n",
      "\n",
      "Engkau hanyalah sebuah konstanta yang tergantikan...\n",
      "\n",
      "Yang berenang di lautan memori,\n",
      "\n",
      "Tak kian menepi, dan terlupakan.\n"
     ]
    }
   ],
   "source": [
    "#open file\n",
    "file_poem_1 = open(\"puisi.txt\",\"r\")\n",
    "file_poem_2 = open(\"puisi.txt\",\"r\")\n",
    "\n",
    "#read file\n",
    "print(\"Dengan metode readlines() : \", file_poem_1.readlines(), \"\\n\\n\")\n",
    "print(\"Dengan metode read() : \", file_poem_2.read())"
   ]
  },
  {
   "cell_type": "code",
   "execution_count": 2,
   "id": "9fe1edf4",
   "metadata": {},
   "outputs": [
    {
     "name": "stdout",
     "output_type": "stream",
     "text": [
      "Program Biodata\n",
      "===============\n",
      "Nama : Arya\n",
      "Umur : 20\n",
      "Alamat : Limus\n"
     ]
    }
   ],
   "source": [
    "print(\"Program Biodata\")\n",
    "print(\"===============\")\n",
    "\n",
    "#input\n",
    "name = input(\"Nama : \")\n",
    "age = input(\"Umur : \")\n",
    "address = input(\"Alamat : \")\n",
    "\n",
    "#text format\n",
    "text = \"Nama : {}\\nUmur : {}\\nAlamat : {}\".format(name, age, address)\n",
    "\n",
    "#buka file yang akan di write\n",
    "file_bio = open(\"biodata.txt\",\"w\")\n",
    "\n",
    "#write to file\n",
    "file_bio.write(text)\n",
    "\n",
    "#close file\n",
    "file_bio.close()"
   ]
  },
  {
   "cell_type": "code",
   "execution_count": 4,
   "id": "f1c9a78a",
   "metadata": {},
   "outputs": [
    {
     "name": "stdout",
     "output_type": "stream",
     "text": [
      "Nama file :  foo.txt\n",
      "Read line :  Python is a great language1\n",
      "\n",
      "Read line :  thon is a great language1\n",
      "\n"
     ]
    }
   ],
   "source": [
    "#seek\n",
    "fo = open(\"foo.txt\", \"r\")\n",
    "print(\"Nama file : \", fo.name)\n",
    "\n",
    "line = fo.readline()\n",
    "print(\"Read line : \", line)\n",
    "\n",
    "#set pointer\n",
    "fo.seek(0, 0)\n",
    "line = fo.readline()\n",
    "print(\"Read line : \", line)\n",
    "\n",
    "#close file\n",
    "fo.close()"
   ]
  }
 ],
 "metadata": {
  "kernelspec": {
   "display_name": "Python 3",
   "language": "python",
   "name": "python3"
  },
  "language_info": {
   "codemirror_mode": {
    "name": "ipython",
    "version": 3
   },
   "file_extension": ".py",
   "mimetype": "text/x-python",
   "name": "python",
   "nbconvert_exporter": "python",
   "pygments_lexer": "ipython3",
   "version": "3.8.8"
  }
 },
 "nbformat": 4,
 "nbformat_minor": 5
}
