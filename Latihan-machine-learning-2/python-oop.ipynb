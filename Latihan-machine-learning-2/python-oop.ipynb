{
 "cells": [
  {
   "cell_type": "code",
   "execution_count": 1,
   "id": "217f7631",
   "metadata": {},
   "outputs": [],
   "source": [
    "#class definition\n",
    "class Buah :\n",
    "    def __init__(self, nama, warna, bentuk) :\n",
    "        self.nama = nama\n",
    "        self.warna = warna\n",
    "        self.bentuk = bentuk\n",
    "    def printFruit(self) :\n",
    "        print(f\"Halo, semua.\\nNama saya {self.nama}, berwarna {self.warna}, dan berbentuk {self.bentuk}\\n\")"
   ]
  },
  {
   "cell_type": "code",
   "execution_count": 2,
   "id": "ae1219ba",
   "metadata": {},
   "outputs": [
    {
     "name": "stdout",
     "output_type": "stream",
     "text": [
      "Halo, semua.\n",
      "Nama saya Jeruk, berwarna Orange, dan berbentuk Bulat\n",
      "\n"
     ]
    }
   ],
   "source": [
    "#inisiasi objek\n",
    "jeruk = Buah('Jeruk','Orange','Bulat')\n",
    "jeruk.printFruit()"
   ]
  },
  {
   "cell_type": "code",
   "execution_count": 3,
   "id": "c70df216",
   "metadata": {},
   "outputs": [],
   "source": [
    "class Employee :\n",
    "    #Class dasar employee\n",
    "    empCount = 0\n",
    "    \n",
    "    def __init__(self, name, salary) :\n",
    "        self.name = name\n",
    "        self.salary = salary\n",
    "        Employee.empCount += 1\n",
    "    \n",
    "#     def display_count(self) :\n",
    "#         print(\"Total pegawai %d\" % Employee.empCount)\n",
    "        \n",
    "    def display_employee(self) :\n",
    "        print(f\"Nama : {self.name}\\nGaji : {self.salary}\")"
   ]
  },
  {
   "cell_type": "code",
   "execution_count": 4,
   "id": "bff4162c",
   "metadata": {},
   "outputs": [
    {
     "name": "stdout",
     "output_type": "stream",
     "text": [
      "Nama : John\n",
      "Gaji : 2000\n",
      "Nama : Jane\n",
      "Gaji : 2400\n",
      "Total pegawai : 2\n"
     ]
    }
   ],
   "source": [
    "emp1 = Employee(\"John\", 2000)\n",
    "emp2 = Employee(\"Jane\",2400)\n",
    "\n",
    "#method display\n",
    "emp1.display_employee() \n",
    "emp2.display_employee()\n",
    "\n",
    "#class variable\n",
    "print(\"Total pegawai : %d\" % Employee.empCount)"
   ]
  },
  {
   "cell_type": "code",
   "execution_count": 5,
   "id": "f27ee341",
   "metadata": {},
   "outputs": [],
   "source": [
    "#constructor\n",
    "class demo1 :\n",
    "    def show(self) :\n",
    "        print(\"Initiated.\")\n",
    "        \n",
    "class demo2 :\n",
    "    def __init__(self) :\n",
    "        print(\"Initiated. 2\")\n",
    "    def __del__(self) :\n",
    "        print(\"Destructor initiated.\")\n",
    "\n",
    "class demo3 :\n",
    "    def __init__(self, age, country) :\n",
    "        self.age = age\n",
    "        self.country = country\n",
    "    def hello(self) :\n",
    "        print(f\"Hello, I am {self.age} years old and I am from {self.country}.\")"
   ]
  },
  {
   "cell_type": "code",
   "execution_count": 6,
   "id": "361f9c95",
   "metadata": {},
   "outputs": [
    {
     "name": "stdout",
     "output_type": "stream",
     "text": [
      "Initiated.\n",
      "Initiated. 2\n",
      "Hello, I am 20 years old and I am from Indonesia.\n"
     ]
    }
   ],
   "source": [
    "d = demo1()\n",
    "d.show() # constructor default\n",
    "d2 = demo2() # constructor non parameter\n",
    "d3 = demo3(20, \"Indonesia\") # constructor parameter\n",
    "d3.hello()"
   ]
  },
  {
   "cell_type": "code",
   "execution_count": 7,
   "id": "ddb74963",
   "metadata": {},
   "outputs": [
    {
     "name": "stdout",
     "output_type": "stream",
     "text": [
      "Pegawai dibuat.\n",
      "Pegawai dihapus.\n"
     ]
    }
   ],
   "source": [
    "class Pegawai :\n",
    "    def __init__(self) :\n",
    "        print('Pegawai dibuat.')\n",
    "    def __del__(self) : # desctructor method override\n",
    "        print('Pegawai dihapus.')\n",
    "        \n",
    "peg1 = Pegawai()\n",
    "del peg1 # delete object"
   ]
  },
  {
   "cell_type": "code",
   "execution_count": 8,
   "id": "b5517537",
   "metadata": {},
   "outputs": [
    {
     "name": "stdout",
     "output_type": "stream",
     "text": [
      "1\n",
      "2\n",
      "7\n"
     ]
    }
   ],
   "source": [
    "class Sample :\n",
    "    count = 0 # atribut dari class sample\n",
    "    \n",
    "    def increase(self) :\n",
    "        Sample.count += 1\n",
    "\n",
    "s1 = Sample()\n",
    "s1.increase()\n",
    "print(s1.count)\n",
    "\n",
    "s2 = Sample()\n",
    "s2.increase()\n",
    "print(s2.count)\n",
    "\n",
    "s3 = Sample()\n",
    "for i in range(5) : #loop increase 5 times with s3\n",
    "    s3.increase()\n",
    "\n",
    "print(Sample.count)"
   ]
  },
  {
   "cell_type": "code",
   "execution_count": 9,
   "id": "6a97e278",
   "metadata": {},
   "outputs": [
    {
     "name": "stdout",
     "output_type": "stream",
     "text": [
      "Vektor (5, 4)\n",
      "Vektor (7, -2)\n",
      "Vektor (12, 2)\n"
     ]
    }
   ],
   "source": [
    "class Vektor :\n",
    "    def __init__(self, a, b) :\n",
    "        self.a = a\n",
    "        self.b = b\n",
    "        \n",
    "    def __str__(self) :\n",
    "        return 'Vektor (%d, %d)' % (self.a, self.b)\n",
    "    \n",
    "    def __add__(self, other) : # overloading/override\n",
    "        return Vektor(self.a + other.a, self.b + other.b)\n",
    "    \n",
    "v1 = Vektor(5,4)\n",
    "v2 = Vektor(7,-2)\n",
    "\n",
    "print(v1)\n",
    "print(v2)\n",
    "\n",
    "print(v1 + v2)"
   ]
  },
  {
   "cell_type": "code",
   "execution_count": 10,
   "id": "da261b87",
   "metadata": {},
   "outputs": [],
   "source": [
    "class Overlap :\n",
    "    def overlap(start1, end1, start2, end2) :\n",
    "        return (\n",
    "            start1 <= start2 <= end1 or # overlap\n",
    "            start1 <= end2 <= end1 or\n",
    "            start2 <= start1 <= end2 or\n",
    "            start2 <= start1 <= end2\n",
    "        )"
   ]
  },
  {
   "cell_type": "code",
   "execution_count": 11,
   "id": "d872e05e",
   "metadata": {},
   "outputs": [
    {
     "data": {
      "text/plain": [
       "20"
      ]
     },
     "execution_count": 11,
     "metadata": {},
     "output_type": "execute_result"
    }
   ],
   "source": [
    "class AttrDict(dict) :\n",
    "    def __getattr__(self, item) : #get dynamic attribute\n",
    "        return self[item]\n",
    "\n",
    "biodata = {\"Nama\" : \"Arya\", \"Umur\" : 20}\n",
    "attr = AttrDict(biodata)\n",
    "attr.__getattr__(\"Umur\")"
   ]
  }
 ],
 "metadata": {
  "kernelspec": {
   "display_name": "Python 3",
   "language": "python",
   "name": "python3"
  },
  "language_info": {
   "codemirror_mode": {
    "name": "ipython",
    "version": 3
   },
   "file_extension": ".py",
   "mimetype": "text/x-python",
   "name": "python",
   "nbconvert_exporter": "python",
   "pygments_lexer": "ipython3",
   "version": "3.8.8"
  }
 },
 "nbformat": 4,
 "nbformat_minor": 5
}
