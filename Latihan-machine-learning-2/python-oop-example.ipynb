{
 "cells": [
  {
   "cell_type": "code",
   "execution_count": 20,
   "id": "4e46eb62",
   "metadata": {},
   "outputs": [],
   "source": [
    "class AnggotaSekolah :\n",
    "    # parent class orang-orang di sekolah\n",
    "    def __init__(self, nama, umur) :\n",
    "        # init\n",
    "        self.nama = nama\n",
    "        self.umur = umur\n",
    "        \n",
    "        print(\"Membuat anggota sekolah baru : %s\" % self.nama)\n",
    "        \n",
    "    def Info(self) :\n",
    "        # print info nama/umur anggota\n",
    "        print('Nama : %s, Umur : %s' % (self.nama, self.umur))\n",
    "        \n",
    "\n",
    "class Guru(AnggotaSekolah) :\n",
    "    # child class 1\n",
    "    def __init__(self, nama, umur, gaji) :\n",
    "        AnggotaSekolah.__init__(self, nama, umur)\n",
    "        self.gaji = gaji\n",
    "        print (\"Membuat guru : %s\" % self.nama)\n",
    "        \n",
    "    def Info(self) :\n",
    "        # print info + gaji\n",
    "        AnggotaSekolah.Info(self)\n",
    "        print('Gaji : %s' % self.gaji)\n",
    "        \n",
    "class Siswa(AnggotaSekolah) :\n",
    "    # child class 2\n",
    "    def __init__(self, nama, umur, nilai) :\n",
    "        AnggotaSekolah.__init__(self, nama, umur)\n",
    "        self.nilai = nilai\n",
    "        print (\"Membuat siswa : %s\" % self.nama)\n",
    "        \n",
    "    def Info(self) :\n",
    "        # print info + gaji\n",
    "        AnggotaSekolah.Info(self)\n",
    "        print('Nilai : %s' % self.nilai)"
   ]
  },
  {
   "cell_type": "code",
   "execution_count": 29,
   "id": "d0728da9",
   "metadata": {},
   "outputs": [
    {
     "name": "stdout",
     "output_type": "stream",
     "text": [
      "Membuat anggota sekolah baru : Budi\n",
      "Membuat guru : Budi\n",
      "Membuat anggota sekolah baru : Andi\n",
      "Membuat siswa : Andi\n",
      "\n",
      "===============Anggota===============\n",
      "Nama : Budi, Umur : 36\n",
      "Gaji : 2000000\n",
      "Nama : Andi, Umur : 19\n",
      "Nilai : 93\n"
     ]
    }
   ],
   "source": [
    "guru1 = Guru('Budi', 36, 2000000)\n",
    "siswa1 = Siswa('Andi', 19, 93)\n",
    "\n",
    "print(\"\\n===============Anggota===============\")\n",
    "\n",
    "anggota = [guru1, siswa1]\n",
    "\n",
    "for orang in anggota :\n",
    "    orang.Info()"
   ]
  }
 ],
 "metadata": {
  "kernelspec": {
   "display_name": "Python 3",
   "language": "python",
   "name": "python3"
  },
  "language_info": {
   "codemirror_mode": {
    "name": "ipython",
    "version": 3
   },
   "file_extension": ".py",
   "mimetype": "text/x-python",
   "name": "python",
   "nbconvert_exporter": "python",
   "pygments_lexer": "ipython3",
   "version": "3.8.8"
  }
 },
 "nbformat": 4,
 "nbformat_minor": 5
}
